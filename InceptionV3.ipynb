{
 "cells": [
  {
   "cell_type": "code",
   "execution_count": 9,
   "id": "fb0cc122",
   "metadata": {},
   "outputs": [],
   "source": [
    "#inception naive version\n",
    "def inception_module (x, f1, f2, f3):\n",
    "    # 1x1 conv\n",
    "    conv1 = Conv2D(f1, (1,1), padding='same', activation= 'relu') (x)\n",
    "    # 3x3 conv\n",
    "    conv3 = Conv2D(f2, (3,3), padding= 'same', activation= 'relu' )(x)\n",
    "    # 5x5 conv\n",
    "    conv5 = Conv2D(f3, (5,5), padding='same', activation= 'relu')(x)\n",
    "    # 3x3 max pooling\n",
    "    pool = MaxPooling2D ((3,3), strides= (1,1), padding= 'same')(x)\n",
    "    # concatenate filters\n",
    "    out = concatenate([conv1, conv3, conv5, pool])\n",
    "    return out"
   ]
  },
  {
   "cell_type": "code",
   "execution_count": 12,
   "id": "d821ccf9",
   "metadata": {},
   "outputs": [],
   "source": [
    "# example of creating a CNN with an inception module\n",
    "#example of creating a CNV with an inception module\n",
    "from keras.models import Model\n",
    "from keras.layers import Input\n",
    "from keras.layers import Conv2D\n",
    "from keras.layers import MaxPooling2D\n",
    "from keras.layers import Concatenate\n",
    "from keras.utils import plot_model\n",
    "\n",
    "img_input = Input(shape=(299, 299, 3))\n",
    "classes=1000\n",
    "WEIGHTS_PATH = 'inception_v3_weights_tf_dim_ordering_tf_kernels.h5'\n",
    "channel_axis=3"
   ]
  },
  {
   "cell_type": "code",
   "execution_count": 11,
   "id": "333a8cbe",
   "metadata": {},
   "outputs": [],
   "source": [
    "def conv2d_bn(x, filters, num_row, num_col,padding=' same', strides=(1, 1)):\n",
    "    x = layers.conv2D(filters, (num_row, num_col) , strides =strides , padding=padding)(x)\n",
    "    x = layers.BatchNormalization (axis=3, scale=False)(x)\n",
    "    x = layers.Activation('relu')(x)\n",
    "    return x\n",
    "\n",
    "#num row and num cols are height and width of filter"
   ]
  },
  {
   "cell_type": "markdown",
   "id": "7f817c20",
   "metadata": {},
   "source": [
    "# Building a model Layer by Layer"
   ]
  },
  {
   "cell_type": "code",
   "execution_count": null,
   "id": "b99923c9",
   "metadata": {},
   "outputs": [],
   "source": [
    "#input image size: 299 x 299 x 3\n",
    "x = conv2d_bn(img_input, 32, 3, 3, strides=(2, 2), padding=\"valid ') # 149 x 149 x 32\n",
    "X conv2d_bn(x, 32, 3, 3, padding='valid') #147 x 147 x 32\n",
    "x = conv2d_bn(x, 64, 3, 3)# 147 x 147 x 64\n",
    "x layers.MaxPooling2D( (3, 3), strides=(2, 2)) (x)\n",
    "# 73 X 73 xT64\n",
    "x = conv2d_bn(x, 80, 1, 1, padding=\"valid') # 73 x 73 x 80\n",
    "X = conv2d_bn(x, 192, 3, 3, padding='valid') # 71 x 71 x 192\n",
    "x layers.MaxPooling2D(3, 3), strides=(2, 2)) (x) # 35 x 35 x 192\n",
    "# Inception block 35 x 35 x 256\n",
    "winception block ax 3 times\n",
    "x=inc_block_a(x)\n",
    "x=inc_block_a(x)\n",
    "x=inc_block_a(x)\n",
    "x=reduction_block_a(x)\n",
    "x=inc_block_b(x)\n",
    "x=inc_block_b(x)\n",
    "x=inc_block_b(x)\n",
    "x=inc_block _b(x)\n",
    "x=reduction_block_b(x)"
   ]
  }
 ],
 "metadata": {
  "kernelspec": {
   "display_name": "Python 3",
   "language": "python",
   "name": "python3"
  },
  "language_info": {
   "codemirror_mode": {
    "name": "ipython",
    "version": 3
   },
   "file_extension": ".py",
   "mimetype": "text/x-python",
   "name": "python",
   "nbconvert_exporter": "python",
   "pygments_lexer": "ipython3",
   "version": "3.8.8"
  }
 },
 "nbformat": 4,
 "nbformat_minor": 5
}
